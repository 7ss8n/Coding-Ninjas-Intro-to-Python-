{
 "cells": [
  {
   "cell_type": "markdown",
   "metadata": {},
   "source": [
    "### Fahrenheit to Celsius"
   ]
  },
  {
   "cell_type": "code",
   "execution_count": null,
   "metadata": {},
   "outputs": [],
   "source": [
    "s = int(input())\n",
    "e = int(input())\n",
    "w = int(input())\n",
    "F = s\n",
    "while(F <= e):\n",
    "  C = (F - 32) * (5/9)\n",
    "  print(F,\"\\t\",int( C))\n",
    "  F = F + w"
   ]
  },
  {
   "cell_type": "markdown",
   "metadata": {},
   "source": [
    "### Calculator"
   ]
  },
  {
   "cell_type": "code",
   "execution_count": null,
   "metadata": {},
   "outputs": [],
   "source": [
    "while True:\n",
    "    n = int(input())        \n",
    "    if(n == 1):\n",
    "        a = int(input())\n",
    "        b = int(input())\n",
    "        print(a+b)\n",
    "    if(n == 2):\n",
    "        a = int(input())\n",
    "        b = int(input())\n",
    "        print(a-b)\n",
    "    if(n == 3):\n",
    "        a = int(input())\n",
    "        b = int(input())\n",
    "        print(a*b)\n",
    "    if(n == 4):\n",
    "        a = int(input())\n",
    "        b = int(input())\n",
    "        print(a/b)\n",
    "    if(n == 5):\n",
    "        a = int(input())\n",
    "        b = int(input())\n",
    "        print(a%b)\n",
    "    if(n == 6):\n",
    "        sys.exit(0)\n",
    "    if(n < 1 and n > 6):\n",
    "        print(\"Invalid Operation\")     "
   ]
  },
  {
   "cell_type": "markdown",
   "metadata": {},
   "source": [
    "### Reverse of a number"
   ]
  },
  {
   "cell_type": "code",
   "execution_count": null,
   "metadata": {},
   "outputs": [],
   "source": [
    "def reverse(n):\n",
    "    rev = 0\n",
    "    while(n >0):\n",
    "        rem = n % 10\n",
    "        rev = (rev * 10) + rem\n",
    "        n = n//10\n",
    "    return rev        \n",
    "n=int(input())\n",
    "result = reverse(n)\n",
    "print(result)"
   ]
  },
  {
   "cell_type": "markdown",
   "metadata": {},
   "source": [
    "### Palindrome Number"
   ]
  },
  {
   "cell_type": "code",
   "execution_count": null,
   "metadata": {},
   "outputs": [],
   "source": []
  }
 ],
 "metadata": {
  "kernelspec": {
   "display_name": "Python 3",
   "language": "python",
   "name": "python3"
  },
  "language_info": {
   "codemirror_mode": {
    "name": "ipython",
    "version": 3
   },
   "file_extension": ".py",
   "mimetype": "text/x-python",
   "name": "python",
   "nbconvert_exporter": "python",
   "pygments_lexer": "ipython3",
   "version": "3.7.3"
  }
 },
 "nbformat": 4,
 "nbformat_minor": 2
}
